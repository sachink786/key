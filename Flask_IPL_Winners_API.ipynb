{
  "cells": [
    {
      "cell_type": "markdown",
      "metadata": {
        "id": "view-in-github",
        "colab_type": "text"
      },
      "source": [
        "<a href=\"https://colab.research.google.com/github/sachink786/key/blob/main/Flask_IPL_Winners_API.ipynb\" target=\"_parent\"><img src=\"https://colab.research.google.com/assets/colab-badge.svg\" alt=\"Open In Colab\"/></a>"
      ]
    },
    {
      "cell_type": "code",
      "source": [
        "from flask import Flask, jsonify\n",
        "\n",
        "app = Flask(__name__)\n",
        "\n",
        "# Data for IPL winners for the last 5 years (as of mid-2025 based on search results)\n",
        "# Please note: The search results provided data up to IPL 2025.\n",
        "# If you are in a different year, you might need to update this data.\n",
        "IPL_WINNERS = [\n",
        "    {\"year\": 2025, \"winner\": \"Royal Challengers Bengaluru\"},\n",
        "    {\"year\": 2024, \"winner\": \"Kolkata Knight Riders\"},\n",
        "    {\"year\": 2023, \"winner\": \"Chennai Super Kings\"},\n",
        "    {\"year\": 2022, \"winner\": \"Gujarat Titans\"},\n",
        "    {\"year\": 2021, \"winner\": \"Chennai Super Kings\"}\n",
        "]\n",
        "\n",
        "@app.route('/')\n",
        "def home():\n",
        "    \"\"\"\n",
        "    Home endpoint.\n",
        "    Returns a welcome message and instructions to get IPL winners.\n",
        "    \"\"\"\n",
        "    return jsonify({\n",
        "        \"message\": \"Welcome to the IPL Winners API!\",\n",
        "        \"instructions\": \"Navigate to /ipl-winners to get the list of IPL winners for the last 5 years.\"\n",
        "    })\n",
        "\n",
        "@app.route('/ipl-winners', methods=['GET'])\n",
        "def get_ipl_winners():\n",
        "    \"\"\"\n",
        "    Endpoint to get IPL winners for the last 5 years.\n",
        "    Returns a JSON array of winner objects.\n",
        "    \"\"\"\n",
        "    return jsonify(IPL_WINNERS)\n",
        "\n",
        "if __name__ == '__main__':\n",
        "    # When deploying to Elastic Beanstalk, you'll typically use a WSGI server like Gunicorn.\n",
        "    # For local testing, you can run: python application.py (or whatever you name this file)\n",
        "    app.run(debug=True, host='0.0.0.0', port=5000)"
      ],
      "outputs": [
        {
          "output_type": "stream",
          "name": "stdout",
          "text": [
            " * Serving Flask app '__main__'\n",
            " * Debug mode: on\n"
          ]
        },
        {
          "output_type": "stream",
          "name": "stderr",
          "text": [
            "INFO:werkzeug:\u001b[31m\u001b[1mWARNING: This is a development server. Do not use it in a production deployment. Use a production WSGI server instead.\u001b[0m\n",
            " * Running on all addresses (0.0.0.0)\n",
            " * Running on http://127.0.0.1:5000\n",
            " * Running on http://172.28.0.12:5000\n",
            "INFO:werkzeug:\u001b[33mPress CTRL+C to quit\u001b[0m\n",
            "INFO:werkzeug: * Restarting with stat\n"
          ]
        }
      ],
      "execution_count": null,
      "metadata": {
        "colab": {
          "base_uri": "https://localhost:8080/"
        },
        "id": "Og6Ho1SjG_ZA",
        "outputId": "0762c5da-44aa-4d0f-c1a2-8624cfbef1d0"
      }
    }
  ],
  "metadata": {
    "colab": {
      "provenance": [],
      "include_colab_link": true
    },
    "kernelspec": {
      "display_name": "Python 3",
      "name": "python3"
    }
  },
  "nbformat": 4,
  "nbformat_minor": 0
}